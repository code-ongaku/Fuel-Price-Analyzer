{
 "cells": [
  {
   "cell_type": "markdown",
   "id": "43c22b2e",
   "metadata": {},
   "source": [
    "# Task 1"
   ]
  },
  {
   "cell_type": "code",
   "execution_count": 325,
   "id": "96a25c09",
   "metadata": {},
   "outputs": [],
   "source": [
    "import numpy as np\n",
    "import pandas as pd\n",
    "from pandas import DataFrame\n",
    "\n",
    "#Now, we will store our data from CURE3data.xlsx in df DataFrame\n",
    "\n",
    "df = DataFrame()\n",
    "df = pd.read_excel(r\"C:\\Users\\rumai\\OneDrive\\Documents\\ENDG319\\CURE3data.xlsx\")\n",
    "df;"
   ]
  },
  {
   "cell_type": "markdown",
   "id": "9b21d0ed",
   "metadata": {},
   "source": [
    "For the codes below:\n",
    "\n",
    "In the first line, we dropped the columns City, Year and Month as these were not attributes. From CURE Deliverable 3, we found out that the machine learning model will be able to classify a new instance since there are clear trends in our data after analysis. Our scatter plots from figure 2,3 & 4 (Average Household heating fuel vs Average Price of Diesel, Average Household heating fuel vs Average Price of Gasoline, Average Price of Diesel vs Average Price of Gasoline) reveal that there is a clear and distinguishable positive correlation between the respective attributes for both cities.\n",
    "Therefore, dfX contains these three attributes.\n",
    "\n",
    "In the second line, sy contains the class, which is 'City'."
   ]
  },
  {
   "cell_type": "code",
   "execution_count": 326,
   "id": "0a623406",
   "metadata": {},
   "outputs": [],
   "source": [
    "dfX = df.drop (columns =['City', 'Year', 'Month'])\n",
    "sy = df.City"
   ]
  },
  {
   "cell_type": "markdown",
   "id": "0b63b8ad",
   "metadata": {},
   "source": [
    "Next, we will split the dfX and sy DataFrames into training sets and test sets."
   ]
  },
  {
   "cell_type": "code",
   "execution_count": 327,
   "id": "3dfd3862",
   "metadata": {},
   "outputs": [],
   "source": [
    "from sklearn.model_selection import train_test_split\n",
    "dfX_train, dfX_test, sy_train, sy_test = train_test_split(dfX,sy)\n",
    "\n",
    "dfX_train, dfX_test, sy_train, sy_test;"
   ]
  },
  {
   "cell_type": "code",
   "execution_count": 328,
   "id": "dd9d06e2",
   "metadata": {},
   "outputs": [
    {
     "data": {
      "text/plain": [
       "LabelEncoder()"
      ]
     },
     "execution_count": 328,
     "metadata": {},
     "output_type": "execute_result"
    }
   ],
   "source": [
    "from sklearn import preprocessing\n",
    "le = preprocessing.LabelEncoder()\n",
    "le"
   ]
  },
  {
   "cell_type": "code",
   "execution_count": 329,
   "id": "0da2b7bf",
   "metadata": {},
   "outputs": [
    {
     "data": {
      "text/plain": [
       "array(['Toronto', 'Vancouver'], dtype=object)"
      ]
     },
     "execution_count": 329,
     "metadata": {},
     "output_type": "execute_result"
    }
   ],
   "source": [
    "le = le.fit(sy_train)\n",
    "le.classes_"
   ]
  },
  {
   "cell_type": "code",
   "execution_count": 330,
   "id": "ffed3330",
   "metadata": {},
   "outputs": [],
   "source": [
    "y_train = le.transform(sy_train)  #Transforms the labels into numbers\n",
    "sy_train, y_train;"
   ]
  },
  {
   "cell_type": "code",
   "execution_count": 331,
   "id": "59a378f2",
   "metadata": {},
   "outputs": [],
   "source": [
    "n1 = preprocessing.MinMaxScaler()    #Defines the preprocessing tool\n",
    "n1=n1.fit(dfX_train.to_numpy())      #Fits the normalizer with attribute DataFrame\n",
    "\n",
    "X_train = n1.transform(dfX_train.to_numpy())    #Applied to transform the attribute DataFrame into an array X with normalized values\n",
    "X_train;"
   ]
  },
  {
   "cell_type": "code",
   "execution_count": 332,
   "id": "8736a4ce",
   "metadata": {},
   "outputs": [
    {
     "data": {
      "text/plain": [
       "(76, 3)"
      ]
     },
     "execution_count": 332,
     "metadata": {},
     "output_type": "execute_result"
    }
   ],
   "source": [
    "X_train.shape"
   ]
  },
  {
   "cell_type": "code",
   "execution_count": 333,
   "id": "ff27871a",
   "metadata": {},
   "outputs": [],
   "source": [
    "from sklearn.neighbors import KNeighborsClassifier   #Import the classifier KNeighborsClassifier from 'neighbors' module\n",
    "knn = KNeighborsClassifier(n_neighbors = 2)       #Defines the knn classifier, where k=2\n",
    "knn = knn.fit(X_train,y_train)                    #Fits the classifier according to the training sets of data\n",
    "knn;"
   ]
  },
  {
   "cell_type": "code",
   "execution_count": 334,
   "id": "3f4afe14",
   "metadata": {
    "scrolled": true
   },
   "outputs": [],
   "source": [
    "#Converting dfX_test and sy_test into arrays X_test and y_test\n",
    "y_test = le.transform(sy_test.to_numpy())\n",
    "X_test = n1.transform(dfX_test.to_numpy())\n",
    "\n",
    "sy_test, y_test, dfX_test, X_test;"
   ]
  },
  {
   "cell_type": "code",
   "execution_count": 335,
   "id": "fcd2952d",
   "metadata": {},
   "outputs": [
    {
     "data": {
      "text/plain": [
       "array([0, 0, 1, 1, 0, 1, 1, 0, 0, 1, 0, 1, 1, 0, 0, 0, 0, 0, 0, 1, 0, 0,\n",
       "       0, 0, 0, 1])"
      ]
     },
     "execution_count": 335,
     "metadata": {},
     "output_type": "execute_result"
    }
   ],
   "source": [
    "knn.predict(X_test)"
   ]
  },
  {
   "cell_type": "code",
   "execution_count": 336,
   "id": "5f9ee5d5",
   "metadata": {},
   "outputs": [
    {
     "data": {
      "text/plain": [
       "array([0, 0, 1, 1, 0, 1, 1, 0, 0, 1, 0, 1, 1, 0, 0, 0, 0, 0, 0, 1, 0, 0,\n",
       "       0, 0, 0, 1])"
      ]
     },
     "execution_count": 336,
     "metadata": {},
     "output_type": "execute_result"
    }
   ],
   "source": [
    "y_test"
   ]
  },
  {
   "cell_type": "markdown",
   "id": "518ee0c3",
   "metadata": {},
   "source": [
    "# Task 2a"
   ]
  },
  {
   "cell_type": "code",
   "execution_count": 337,
   "id": "61ab7c29",
   "metadata": {},
   "outputs": [
    {
     "data": {
      "text/plain": [
       "1.0"
      ]
     },
     "execution_count": 337,
     "metadata": {},
     "output_type": "execute_result"
    }
   ],
   "source": [
    "knn.score(X_test,y_test)   #Accuracy of the knn classifier"
   ]
  },
  {
   "cell_type": "code",
   "execution_count": 338,
   "id": "107ace36",
   "metadata": {},
   "outputs": [
    {
     "data": {
      "text/plain": [
       "0.9868421052631579"
      ]
     },
     "execution_count": 338,
     "metadata": {},
     "output_type": "execute_result"
    }
   ],
   "source": [
    "knn.score(X_train,y_train)"
   ]
  },
  {
   "cell_type": "code",
   "execution_count": 339,
   "id": "894b9aa3",
   "metadata": {},
   "outputs": [
    {
     "data": {
      "image/png": "[encoded data removed]",
      "text/plain": [
       "<Figure size 432x288 with 1 Axes>"
      ]
     },
     "metadata": {
      "needs_background": "light"
     },
     "output_type": "display_data"
    }
   ],
   "source": [
    "import matplotlib.pyplot as plt\n",
    "import numpy as np \n",
    "\n",
    "m, n = X_train.shape\n",
    "m, n;\n",
    "\n",
    "k_array = np.linspace(1, m, m)      #Array of k values from 1 to m as integers\n",
    "\n",
    "#Arrays of scores at different k values\n",
    "score_train = np.array([])\n",
    "score_test = np.array([])\n",
    "\n",
    "for k in k_array:       #Using a for loop to generate plots for various k-values\n",
    "    \n",
    "    knn = KNeighborsClassifier(n_neighbors = int(k))       #Produces a knn classifier model using each k value\n",
    "    knn = knn.fit(X_train, y_train)                        #Fits the accuracy score in the array of scores\n",
    "    k_score_train = knn.score(X_train, y_train)\n",
    "    k_score_test = knn.score(X_test, y_test)\n",
    "    score_train = np.append(score_train, k_score_train)\n",
    "    score_test = np.append(score_test, k_score_test)\n",
    "    \n",
    "plt.plot(k_array, score_train)\n",
    "plt.plot(k_array, score_test)\n",
    "plt.title(\"Model Accuracy for Different k Values (MinMaxScaler())\")\n",
    "plt.xlabel(\"k values\")\n",
    "plt.ylabel(\"Model Accuracy\")\n",
    "plt.legend([\"Training Scores\", \"Test Scores\"])\n",
    "plt.show()"
   ]
  },
  {
   "cell_type": "markdown",
   "id": "9202cb49",
   "metadata": {},
   "source": [
    "# Task 2b"
   ]
  },
  {
   "cell_type": "code",
   "execution_count": 340,
   "id": "38c7b514",
   "metadata": {
    "scrolled": true
   },
   "outputs": [
    {
     "data": {
      "image/png": "[encoded data removed]",
      "text/plain": [
       "<Figure size 432x288 with 1 Axes>"
      ]
     },
     "metadata": {
      "needs_background": "light"
     },
     "output_type": "display_data"
    }
   ],
   "source": [
    "stand = preprocessing.StandardScaler()\n",
    "standfitted = stand.fit(dfX_train.to_numpy())\n",
    "X_train_2 = standfitted.transform(dfX_train.to_numpy())\n",
    "X_test_2 = standfitted.transform(dfX_test.to_numpy())\n",
    "\n",
    "score_train2 = np.array([]) \n",
    "score_test2 = np.array([])\n",
    "\n",
    "for k in k_array:          #Using a for loop to generate plots for various k-values\n",
    "    \n",
    "    knn = KNeighborsClassifier(n_neighbors = int(k))              #Produces a knn classifier model using each k value\n",
    "    knn = knn.fit(X_train_2, y_train)                             #Fits the accuracy score in the array of scores\n",
    "    k_score_train2 = knn.score(X_train_2, y_train)\n",
    "    score_train2 = np.append(score_train2, k_score_train2)\n",
    "    k_score_test2 = knn.score(X_test_2, y_test)\n",
    "    score_test2 = np.append(score_test2, k_score_test2)\n",
    "    \n",
    "plt.plot(k_array, score_train2)\n",
    "plt.plot(k_array, score_test2)\n",
    "plt.title(\"Model Accuracy for Different k Values (StandardScaler())\")\n",
    "plt.xlabel(\"k values\")\n",
    "plt.ylabel(\"Model Accuracy\")\n",
    "plt.legend([\"Training Scores\", \"Test Scores\"])\n",
    "plt.show()"
   ]
  },
  {
   "cell_type": "markdown",
   "id": "c8f80fec",
   "metadata": {},
   "source": [
    "# Task 3a"
   ]
  },
  {
   "cell_type": "markdown",
   "id": "e5642ffd",
   "metadata": {},
   "source": [
    "The best value of k taken is k=2, as the accuracy score is the highest when the program is run.\n",
    "\n",
    "The best scaler is MinMaxScaler(), as it shows the higher values of accuracy at more values of k."
   ]
  },
  {
   "cell_type": "markdown",
   "id": "d433a924",
   "metadata": {},
   "source": [
    "# Task 3b"
   ]
  },
  {
   "cell_type": "code",
   "execution_count": 341,
   "id": "0fbeaa8e",
   "metadata": {},
   "outputs": [
    {
     "data": {
      "text/plain": [
       "(0.9868421052631579, 1.0)"
      ]
     },
     "execution_count": 341,
     "metadata": {},
     "output_type": "execute_result"
    }
   ],
   "source": [
    "KNN = KNeighborsClassifier(n_neighbors = 2)\n",
    "KNN = KNN.fit(X_train, y_train) \n",
    "KNN.score(X_train, y_train), KNN.score(X_test, y_test)"
   ]
  },
  {
   "cell_type": "code",
   "execution_count": 342,
   "id": "6b4b8427",
   "metadata": {},
   "outputs": [
    {
     "name": "stdout",
     "output_type": "stream",
     "text": [
      "[[17  0]\n",
      " [ 0  9]]\n"
     ]
    },
    {
     "data": {
      "text/plain": [
       "<sklearn.metrics._plot.confusion_matrix.ConfusionMatrixDisplay at 0x279cdcdc940>"
      ]
     },
     "execution_count": 342,
     "metadata": {},
     "output_type": "execute_result"
    },
    {
     "data": {
      "image/png": "[encoded data removed]",
      "text/plain": [
       "<Figure size 432x288 with 2 Axes>"
      ]
     },
     "metadata": {
      "needs_background": "light"
     },
     "output_type": "display_data"
    }
   ],
   "source": [
    "from sklearn.datasets import make_classification\n",
    "from sklearn.metrics import confusion_matrix, ConfusionMatrixDisplay\n",
    "\n",
    "lefitted = le.fit(sy_train)\n",
    "lefitted.classes_\n",
    "y_train = lefitted.transform(sy_train)\n",
    "y_test = lefitted.transform(sy_test.to_numpy())\n",
    "predictions = KNN.predict(X_test)\n",
    "c_m = confusion_matrix(y_test, predictions)\n",
    "print(c_m)\n",
    "ConfusionMatrixDisplay(confusion_matrix = c_m, display_labels = lefitted.classes_).plot()"
   ]
  },
  {
   "cell_type": "code",
   "execution_count": 343,
   "id": "66ced11d",
   "metadata": {},
   "outputs": [
    {
     "data": {
      "text/plain": [
       "array([0, 0, 1, 1, 0, 1, 1, 0, 0, 1, 0, 1, 1, 0, 0, 0, 0, 0, 0, 1, 0, 0,\n",
       "       0, 0, 0, 1])"
      ]
     },
     "execution_count": 343,
     "metadata": {},
     "output_type": "execute_result"
    }
   ],
   "source": [
    "y_test"
   ]
  },
  {
   "cell_type": "code",
   "execution_count": 344,
   "id": "e08e0984",
   "metadata": {},
   "outputs": [
    {
     "data": {
      "text/plain": [
       "array([0, 0, 1, 1, 0, 1, 1, 0, 0, 1, 0, 1, 1, 0, 0, 0, 0, 0, 0, 1, 0, 0,\n",
       "       0, 0, 0, 1])"
      ]
     },
     "execution_count": 344,
     "metadata": {},
     "output_type": "execute_result"
    }
   ],
   "source": [
    "predictions"
   ]
  },
  {
   "cell_type": "markdown",
   "id": "c09ac3cf",
   "metadata": {},
   "source": [
    "# Task 4"
   ]
  },
  {
   "cell_type": "code",
   "execution_count": 345,
   "id": "00bae9c1",
   "metadata": {},
   "outputs": [
    {
     "data": {
      "text/plain": [
       "array([[0.57481752, 0.39341693, 0.1323693 ]])"
      ]
     },
     "execution_count": 345,
     "metadata": {},
     "output_type": "execute_result"
    }
   ],
   "source": [
    "new_instances = np.array([[115.1, 108.7, 91]])\n",
    "new_a = n1.transform(new_instances)\n",
    "                                              \n",
    "new_a"
   ]
  },
  {
   "cell_type": "code",
   "execution_count": 346,
   "id": "8ee7e5c2",
   "metadata": {},
   "outputs": [
    {
     "data": {
      "text/plain": [
       "array(['Toronto'], dtype=object)"
      ]
     },
     "execution_count": 346,
     "metadata": {},
     "output_type": "execute_result"
    }
   ],
   "source": [
    "lefitted.inverse_transform(KNN.predict(new_a))"
   ]
  },
  {
   "cell_type": "markdown",
   "id": "9adef005",
   "metadata": {},
   "source": [
    "The predicted class is the same as the class from which the instances were taken."
   ]
  },
  {
   "cell_type": "code",
   "execution_count": null,
   "id": "58c90214",
   "metadata": {},
   "outputs": [],
   "source": []
  }
 ],
 "metadata": {
  "kernelspec": {
   "display_name": "Python 3",
   "language": "python",
   "name": "python3"
  },
  "language_info": {
   "codemirror_mode": {
    "name": "ipython",
    "version": 3
   },
   "file_extension": ".py",
   "mimetype": "text/x-python",
   "name": "python",
   "nbconvert_exporter": "python",
   "pygments_lexer": "ipython3",
   "version": "3.8.8"
  }
 },
 "nbformat": 4,
 "nbformat_minor": 5
}
